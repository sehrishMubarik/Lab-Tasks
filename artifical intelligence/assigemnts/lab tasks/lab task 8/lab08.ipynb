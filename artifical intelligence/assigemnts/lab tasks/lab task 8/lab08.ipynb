{
 "cells": [
  {
   "cell_type": "code",
   "execution_count": 1,
   "metadata": {},
   "outputs": [
    {
     "name": "stdout",
     "output_type": "stream",
     "text": [
      "The optimal score is: 8\n"
     ]
    }
   ],
   "source": [
    "import math\n",
    "def min_max(node, depth, is_max_player):\n",
    "    if depth == 0 or len(node) == 1:\n",
    "        return node[0]  \n",
    "\n",
    "    if is_max_player:\n",
    "        best = -math.inf\n",
    "        for child in node:\n",
    "            best = max(best, min_max(child, depth - 1, False))\n",
    "        return best\n",
    "    else:\n",
    "        best = math.inf\n",
    "        for child in node:\n",
    "            best = min(best, min_max(child, depth - 1, True))\n",
    "        return best\n",
    "game_tree = [\n",
    "    [\n",
    "        [3, 12],  \n",
    "        [5, 10]\n",
    "    ],\n",
    "    [\n",
    "        [8, 1],  \n",
    "        [14, 2]\n",
    "    ]\n",
    "]\n",
    "\n",
    "result = min_max(game_tree, depth=2, is_max_player=True)\n",
    "print(f\"The optimal score is: {result}\")\n"
   ]
  }
 ],
 "metadata": {
  "kernelspec": {
   "display_name": "Python 3",
   "language": "python",
   "name": "python3"
  },
  "language_info": {
   "codemirror_mode": {
    "name": "ipython",
    "version": 3
   },
   "file_extension": ".py",
   "mimetype": "text/x-python",
   "name": "python",
   "nbconvert_exporter": "python",
   "pygments_lexer": "ipython3",
   "version": "3.12.4"
  }
 },
 "nbformat": 4,
 "nbformat_minor": 2
}
